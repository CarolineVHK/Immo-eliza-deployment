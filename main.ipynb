{
 "cells": [
  {
   "cell_type": "markdown",
   "metadata": {},
   "source": [
    "GET  = read only\n",
    "POST = create data, user input\n",
    "PUT = update data\n",
    "PATCH = partially update data\n",
    "DELETE = delete data\n",
    "\n"
   ]
  },
  {
   "cell_type": "code",
   "execution_count": null,
   "metadata": {},
   "outputs": [],
   "source": [
    "from fastapi import FastAPI #(query, Path)\n",
    "from pydantic import BaseModel, Field\n",
    "from typing import Optional\n",
    "from datetime import date\n",
    "\n",
    "\n",
    "user_dict = {\"Jack\":{\"username\":\"Jack\",\"date\":\"2020-01-23\",\"age\":5, \"location\":\"NY\"}, \n",
    "             \"Jan\":{\"username\":\"Jan\",\"date\":\"2020-01-23\",\"age\":15, \"location\":\"GENT\"}}\n",
    "\n",
    "class User(BaseModel):\n",
    "    username : str = Field(min_length=3, max_length=20) #return an instance of a special class from pydantic\n",
    "    date : date\n",
    "    age : int = Field(None,gt=5,lt=23) #default value None but greater than 5 and less than 23 (ge=greater equal to, le=less equal to)\n",
    "    location: Optional[str] = None #make a field optional, so if not enter it goes on\n",
    "\n",
    "\n",
    "app = FastAPI()\n",
    "#get api: only read\n",
    "@app.get('/')#decorator for the function, whatever get request is call it wil be send to the url ('/')\n",
    "def first_api():\n",
    "    return{'First api':'I made it!'}\n",
    "#running code in terminal: uvicorn main:app --reload : means that you reload the app after each new coding\n",
    "#copy the http: http://127.0.0.1:8000, adding /docs or redoc nicer view \n",
    "\n",
    "#adding users' path\n",
    "# @app.get('/users') \n",
    "# def get_users():\n",
    "#     user_list = list(user_dict.values())\n",
    "#     return user_list\n",
    "\n",
    "#path parameter:\n",
    "@app.get('/users/{username}') #adding variable: always beiing requiered, even if you add default value\n",
    "def get_users_path(username: str): #telling py that it needs to be a string\n",
    "    return user_dict[username]\n",
    "\n",
    "#adding query parameter\n",
    "@app.get('/users')\n",
    "def get_users_query(limit: int = 20):  #making a default value 2, so then in api the required is gone\n",
    "    user_list = list(user_dict.values())\n",
    "    return user_list[:limit] #passing the values from beginning to the limit-query-parameter, appearse as a ? after users: users?limit=2\n",
    "\n",
    "#post operation models: request/response body with pydantic model: user send and ad users data into you api\n",
    "@app.post('/users')\n",
    "def create_user(user: User): #define a class User: to declare what info you need about the user\n",
    "    username = user.username\n",
    "    user_dict[username] = user.dict() #convert data into a dictionorairy\n",
    "    return {\"message\": f'Succesfully added new user {username}'}\n"
   ]
  }
 ],
 "metadata": {
  "language_info": {
   "name": "python"
  }
 },
 "nbformat": 4,
 "nbformat_minor": 2
}
